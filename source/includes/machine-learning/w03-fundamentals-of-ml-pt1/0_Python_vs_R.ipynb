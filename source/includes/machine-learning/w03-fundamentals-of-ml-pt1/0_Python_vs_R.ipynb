{
 "cells": [
  {
   "cell_type": "markdown",
   "metadata": {},
   "source": [
    "# Python vs. R: Some Main Differences\n",
    "\n",
    "This notebook summarises some of the main differences between R and Python. It is meant to help you avoid some of the potential pitfalls if you are coming from an R programming background."
   ]
  },
  {
   "cell_type": "code",
   "execution_count": null,
   "metadata": {},
   "outputs": [],
   "source": [
    "# first set this so that jupyter notebook prints all output from a cell, \n",
    "# not just the most recent one\n",
    "from IPython.core.interactiveshell import InteractiveShell\n",
    "InteractiveShell.ast_node_interactivity = \"all\""
   ]
  },
  {
   "cell_type": "markdown",
   "metadata": {},
   "source": [
    "### In Python, indexing starts at 0, so the first element of a list is selected by the 0-th index."
   ]
  },
  {
   "cell_type": "code",
   "execution_count": null,
   "metadata": {},
   "outputs": [],
   "source": [
    "lst = [\"A\", \"B\", 3.45]\n",
    "lst[0]"
   ]
  },
  {
   "cell_type": "markdown",
   "metadata": {},
   "source": [
    "**R**:\n",
    "```R\n",
    "lst <- list(\"A\",\"B\", 3)\n",
    "\n",
    "lst[1]\n",
    "\n",
    "Output: \"A\"\n",
    "```"
   ]
  },
  {
   "cell_type": "markdown",
   "metadata": {},
   "source": [
    "### Unlike R, the ending index is excluded in Python."
   ]
  },
  {
   "cell_type": "code",
   "execution_count": null,
   "metadata": {},
   "outputs": [],
   "source": [
    "lst[0:1]"
   ]
  },
  {
   "cell_type": "code",
   "execution_count": null,
   "metadata": {},
   "outputs": [],
   "source": [
    "lst[0:2]"
   ]
  },
  {
   "cell_type": "markdown",
   "metadata": {},
   "source": [
    "### In R, you use {} to define scope. In Python, there are no curlies, and you use indentation to define scope. "
   ]
  },
  {
   "cell_type": "markdown",
   "metadata": {},
   "source": [
    "**R**:\n",
    "```R\n",
    "printString <- function(x,y) {\n",
    "\n",
    "print(\"Hello!\")  # indenting this line is not necessary\n",
    "\n",
    "}\n",
    "```"
   ]
  },
  {
   "cell_type": "markdown",
   "metadata": {},
   "source": [
    "In Python, when you indent, you need to end the line above with a colon. We suggest that you use 4 spaces for indentation, but tabs work just as  fine."
   ]
  },
  {
   "cell_type": "code",
   "execution_count": null,
   "metadata": {},
   "outputs": [],
   "source": [
    "def printInput(name):\n",
    "    if type(name) is str:\n",
    "        print(\"String: Hello \" + name + '!')\n",
    "    elif type(name) is int or type(name) is float:\n",
    "        print(\"Numeric: Hello \" + str(name) + '!')\n",
    "    else:\n",
    "        print(\"We don't greet strangers!\")\n",
    "\n",
    "printInput(\"world\")\n",
    "printInput(123)\n",
    "printInput(1.45)\n",
    "printInput(None)\n"
   ]
  },
  {
   "cell_type": "markdown",
   "metadata": {},
   "source": [
    "### In Python, variables are passed as references to functions. In R, they are passed as values.\n",
    "\n",
    "If you modify an input variable inside a Python function, it will also change it in the main function. This can result in hard to find bugs if you don't pay attention. However, this makes Python functions faster and more memory efficient."
   ]
  },
  {
   "cell_type": "code",
   "execution_count": null,
   "metadata": {},
   "outputs": [],
   "source": [
    "x = [1, 2, 3]"
   ]
  },
  {
   "cell_type": "code",
   "execution_count": null,
   "metadata": {},
   "outputs": [],
   "source": [
    "def lst(x):\n",
    "   y = x.append(4)\n",
    "   return y"
   ]
  },
  {
   "cell_type": "code",
   "execution_count": null,
   "metadata": {},
   "outputs": [],
   "source": [
    "lst(x)"
   ]
  },
  {
   "cell_type": "code",
   "execution_count": null,
   "metadata": {},
   "outputs": [],
   "source": [
    "# Variable x globally changed too!\n",
    "x"
   ]
  },
  {
   "cell_type": "markdown",
   "metadata": {},
   "source": [
    "The issue is that when you assign the list x to the variable y, you are not creating a copy of x. Rather you are creating a reference to x. This means that when either variable changes (x or y), they both change because they both point to the same address in the memory. To resolve this issue, you need to explicitly tell Python to create a copy of x and call it y. This way, both variables will be independent of each other."
   ]
  },
  {
   "cell_type": "code",
   "execution_count": null,
   "metadata": {},
   "outputs": [],
   "source": [
    "x = [1, 2, 3]\n",
    "def lst(x):\n",
    "    y = list(x)  # create a copy of x and not a reference\n",
    "    y.append(4)  # change the copy\n",
    "    return y"
   ]
  },
  {
   "cell_type": "code",
   "execution_count": null,
   "metadata": {},
   "outputs": [],
   "source": [
    "lst(x)"
   ]
  },
  {
   "cell_type": "code",
   "execution_count": null,
   "metadata": {},
   "outputs": [],
   "source": [
    "# Variable x is still [1 , 2, 3]\n",
    "x"
   ]
  },
  {
   "cell_type": "markdown",
   "metadata": {},
   "source": [
    "### Assignment is not always what you think."
   ]
  },
  {
   "cell_type": "code",
   "execution_count": null,
   "metadata": {},
   "outputs": [],
   "source": [
    "a1 = [1,1]\n",
    "a2 = [1,1]"
   ]
  },
  {
   "cell_type": "code",
   "execution_count": null,
   "metadata": {},
   "outputs": [],
   "source": [
    "# This simply creates a view: both a and b point to the \n",
    "# same location in the computer memory\n",
    "b = a1"
   ]
  },
  {
   "cell_type": "code",
   "execution_count": null,
   "metadata": {},
   "outputs": [],
   "source": [
    "b[0] = 'boo!'"
   ]
  },
  {
   "cell_type": "code",
   "execution_count": null,
   "metadata": {},
   "outputs": [],
   "source": [
    "print(a1)"
   ]
  },
  {
   "cell_type": "markdown",
   "metadata": {},
   "source": [
    "If you want a real copy, do either one of the below:"
   ]
  },
  {
   "cell_type": "code",
   "execution_count": null,
   "metadata": {},
   "outputs": [],
   "source": [
    "c = list(a2)\n",
    "# OR\n",
    "import copy\n",
    "c = copy.copy(a2)\n",
    "# even more confusing, if you want deep copy \n",
    "# (that is, also make copies of lists within a list): \n",
    "# c = copy.deepcopy(a)\n",
    "c"
   ]
  },
  {
   "cell_type": "markdown",
   "metadata": {},
   "source": [
    "How to check if two variables point to the same address in the memory:"
   ]
  },
  {
   "cell_type": "code",
   "execution_count": null,
   "metadata": {},
   "outputs": [],
   "source": [
    "b is a1"
   ]
  },
  {
   "cell_type": "code",
   "execution_count": null,
   "metadata": {},
   "outputs": [],
   "source": [
    "c is a2"
   ]
  },
  {
   "cell_type": "markdown",
   "metadata": {},
   "source": [
    "Tricky! How to check if two variables have the same value:"
   ]
  },
  {
   "cell_type": "code",
   "execution_count": null,
   "metadata": {},
   "outputs": [],
   "source": [
    "c == a2"
   ]
  },
  {
   "cell_type": "markdown",
   "metadata": {},
   "source": [
    "Python does this for memory efficiency. However, base types will work just fine:"
   ]
  },
  {
   "cell_type": "code",
   "execution_count": null,
   "metadata": {},
   "outputs": [],
   "source": [
    "a = 1\n",
    "b = a\n",
    "b = 'boo!'\n",
    "print(a)"
   ]
  },
  {
   "cell_type": "markdown",
   "metadata": {},
   "source": [
    "### In R, to perform exponentiation   you can use either ^ (caret symbol) or ** (double asterisk). In Python, you can only use ** because in Python, ^ is bitwise XOR."
   ]
  },
  {
   "cell_type": "markdown",
   "metadata": {},
   "source": [
    "So, here is $2^3$ (notice how you can embed Latex code inside a notebook):"
   ]
  },
  {
   "cell_type": "markdown",
   "metadata": {},
   "source": [
    "**R**:\n",
    "```R\n",
    "Input: 2**3\n",
    "\n",
    "Output: 8\n",
    "\n",
    "Input: 2^3\n",
    "\n",
    "Output: 8\n",
    "```"
   ]
  },
  {
   "cell_type": "code",
   "execution_count": null,
   "metadata": {},
   "outputs": [],
   "source": [
    "2**3"
   ]
  },
  {
   "cell_type": "code",
   "execution_count": null,
   "metadata": {},
   "outputs": [],
   "source": [
    "2^3"
   ]
  },
  {
   "cell_type": "markdown",
   "metadata": {},
   "source": [
    "### In R, you can usually use dot when naming variables and functions. In Python, you use dot to access methods and attributes of classes and objects. In Python, you should not use dot when naming anything."
   ]
  },
  {
   "cell_type": "markdown",
   "metadata": {},
   "source": [
    "**R**:\n",
    "```R\n",
    "my.integer.variable <- 5\n",
    "```"
   ]
  },
  {
   "cell_type": "code",
   "execution_count": null,
   "metadata": {},
   "outputs": [],
   "source": [
    "a = [1,2,3]\n",
    "print(a)\n",
    "\n",
    "a.append(4)\n",
    "print(a)"
   ]
  },
  {
   "cell_type": "markdown",
   "metadata": {},
   "source": [
    "### In R, by default, reshaping of data happens column-wise. The default behaviour in Python is to reshape row-wise. This can cause subtle bugs that are hard to catch."
   ]
  },
  {
   "cell_type": "markdown",
   "metadata": {},
   "source": [
    "**R**:\n",
    "```R\n",
    "matrix(0:9, nrow=2, ncol=5)\n",
    "     [,1] [,2] [,3] [,4] [,5]\n",
    "[1,]    0    2    4    6    8\n",
    "[2,]    1    3    5    7    9\n",
    "```"
   ]
  },
  {
   "cell_type": "code",
   "execution_count": null,
   "metadata": {},
   "outputs": [],
   "source": [
    "import numpy as np\n",
    "np.arange(10).reshape(2, 5)"
   ]
  },
  {
   "cell_type": "markdown",
   "metadata": {},
   "source": [
    "However, you can force Python to do column-wise reshaping by setting the `order` parameter to 'F' inside the `reshape` function."
   ]
  },
  {
   "cell_type": "code",
   "execution_count": null,
   "metadata": {},
   "outputs": [],
   "source": [
    "import numpy as np\n",
    "np.arange(10).reshape(2, 5, order='F')"
   ]
  },
  {
   "cell_type": "markdown",
   "metadata": {},
   "source": [
    "***\n",
    "\n",
    "MATH2319 - Machine Learning @ RMIT University"
   ]
  }
 ],
 "metadata": {
  "kernelspec": {
   "display_name": "Python 3",
   "language": "python",
   "name": "python3"
  },
  "language_info": {
   "codemirror_mode": {
    "name": "ipython",
    "version": 3
   },
   "file_extension": ".py",
   "mimetype": "text/x-python",
   "name": "python",
   "nbconvert_exporter": "python",
   "pygments_lexer": "ipython3",
   "version": "3.6.6"
  }
 },
 "nbformat": 4,
 "nbformat_minor": 2
}
