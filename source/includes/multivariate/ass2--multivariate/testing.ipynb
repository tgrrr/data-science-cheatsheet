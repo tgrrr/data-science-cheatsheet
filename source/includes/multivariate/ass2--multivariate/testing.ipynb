{
 "cells": [
  {
   "cell_type": "code",
   "execution_count": null,
   "metadata": {},
   "outputs": [],
   "source": [
    "%web_drop_table(R);\n",
    "FILENAME REFFILE '/folders/myshortcuts/ass2--multivariate/data/track.csv';\n",
    "PROC IMPORT DATAFILE=REFFILE \n",
    "\tDBMS=CSV\n",
    "\tOUT=R; /* this is where we get the output with the PCA's */\n",
    "\tGETNAMES=YES;\n",
    "RUN;\n",
    "PROC CONTENTS DATA=R; \n",
    "RUN;\n",
    "%web_open_table(R);"
   ]
  },
  {
   "cell_type": "markdown",
   "metadata": {},
   "source": [
    "foo"
   ]
  },
  {
   "cell_type": "markdown",
   "metadata": {},
   "source": []
  }
 ],
 "metadata": {
  "kernelspec": {
   "display_name": "SAS",
   "language": "sas",
   "name": "sas"
  },
  "language_info": {
   "codemirror_mode": "sas",
   "file_extension": ".sas",
   "mimetype": "text/x-sas",
   "name": "sas"
  }
 },
 "nbformat": 4,
 "nbformat_minor": 2
}
